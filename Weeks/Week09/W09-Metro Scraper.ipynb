{
 "cells": [
  {
   "cell_type": "markdown",
   "metadata": {
    "toc": true
   },
   "source": [
    "<h1>Table of Contents<span class=\"tocSkip\"></span></h1>\n",
    "<div class=\"toc\"><ul class=\"toc-item\"><li><span><a href=\"#A-real-time-bus-tracker\" data-toc-modified-id=\"A-real-time-bus-tracker-1\"><span class=\"toc-item-num\">1&nbsp;&nbsp;</span>A real-time bus tracker</a></span><ul class=\"toc-item\"><li><span><a href=\"#Import-libraries\" data-toc-modified-id=\"Import-libraries-1.1\"><span class=\"toc-item-num\">1.1&nbsp;&nbsp;</span>Import libraries</a></span></li><li><span><a href=\"#Playing-with-time\" data-toc-modified-id=\"Playing-with-time-1.2\"><span class=\"toc-item-num\">1.2&nbsp;&nbsp;</span>Playing with time</a></span></li><li><span><a href=\"#Import-data-from-metro-API\" data-toc-modified-id=\"Import-data-from-metro-API-1.3\"><span class=\"toc-item-num\">1.3&nbsp;&nbsp;</span>Import data from metro API</a></span><ul class=\"toc-item\"><li><span><a href=\"#Get-real-time-bus-locations-via-url-call\" data-toc-modified-id=\"Get-real-time-bus-locations-via-url-call-1.3.1\"><span class=\"toc-item-num\">1.3.1&nbsp;&nbsp;</span>Get real-time bus locations via url call</a></span></li><li><span><a href=\"#Convert-JSON-to-dataframe-and-add-a-timestamp\" data-toc-modified-id=\"Convert-JSON-to-dataframe-and-add-a-timestamp-1.3.2\"><span class=\"toc-item-num\">1.3.2&nbsp;&nbsp;</span>Convert JSON to dataframe and add a timestamp</a></span></li><li><span><a href=\"#Adjust-the-time\" data-toc-modified-id=\"Adjust-the-time-1.3.3\"><span class=\"toc-item-num\">1.3.3&nbsp;&nbsp;</span>Adjust the time</a></span></li><li><span><a href=\"#Create-an-empty-csv-file\" data-toc-modified-id=\"Create-an-empty-csv-file-1.3.4\"><span class=\"toc-item-num\">1.3.4&nbsp;&nbsp;</span>Create an empty csv file</a></span></li><li><span><a href=\"#Append-data-to-csv\" data-toc-modified-id=\"Append-data-to-csv-1.3.5\"><span class=\"toc-item-num\">1.3.5&nbsp;&nbsp;</span>Append data to csv</a></span></li></ul></li><li><span><a href=\"#Making-it-into-a-function\" data-toc-modified-id=\"Making-it-into-a-function-1.4\"><span class=\"toc-item-num\">1.4&nbsp;&nbsp;</span>Making it into a function</a></span></li><li><span><a href=\"#Automate-it\" data-toc-modified-id=\"Automate-it-1.5\"><span class=\"toc-item-num\">1.5&nbsp;&nbsp;</span>Automate it</a></span></li><li><span><a href=\"#Map-it\" data-toc-modified-id=\"Map-it-1.6\"><span class=\"toc-item-num\">1.6&nbsp;&nbsp;</span>Map it</a></span><ul class=\"toc-item\"><li><span><a href=\"#Plotly\" data-toc-modified-id=\"Plotly-1.6.1\"><span class=\"toc-item-num\">1.6.1&nbsp;&nbsp;</span>Plotly</a></span></li><li><span><a href=\"#Kepler\" data-toc-modified-id=\"Kepler-1.6.2\"><span class=\"toc-item-num\">1.6.2&nbsp;&nbsp;</span>Kepler</a></span></li></ul></li></ul></li></ul></div>"
   ]
  },
  {
   "cell_type": "markdown",
   "metadata": {},
   "source": [
    "<div class=\"alert alert-danger\">\n",
    "This lab will be recorded.\n",
    "</div>"
   ]
  },
  {
   "cell_type": "markdown",
   "metadata": {
    "slideshow": {
     "slide_type": "slide"
    }
   },
   "source": [
    "# A real-time bus tracker\n",
    "\n",
    "<img src='images/buses.gif' width=400>\n",
    "\n",
    "The LA Metro API provides information on the exact location of buses that are currently in operation. Using this real-time bus data, we can generate maps that display the location of buses for any given route. Furthermore, we can utilize this feed to create an archive of bus location associated with their timestamps. By creating a script that continously collects this information, we can simulate bus movement in the city for further analysis."
   ]
  },
  {
   "cell_type": "markdown",
   "metadata": {
    "slideshow": {
     "slide_type": "slide"
    }
   },
   "source": [
    "## Import libraries"
   ]
  },
  {
   "cell_type": "code",
   "execution_count": null,
   "metadata": {},
   "outputs": [],
   "source": [
    "# libraries\n",
    "import pandas as pd\n",
    "import matplotlib.pyplot as plt\n",
    "import plotly.express as px\n",
    "\n",
    "# to import and manipulate api/json data\n",
    "import urllib.request \n",
    "import json\n",
    "\n",
    "# to manipulate csv files\n",
    "import csv\n",
    "from csv import DictWriter\n",
    "\n",
    "# to work with time\n",
    "import datetime as dt\n",
    "from datetime import datetime\n",
    "import pytz\n",
    "from pytz import timezone"
   ]
  },
  {
   "cell_type": "markdown",
   "metadata": {
    "slideshow": {
     "slide_type": "slide"
    }
   },
   "source": [
    "## Playing with time\n",
    "\n",
    "<img src='https://files.realpython.com/media/How-to-Use-the-Python-Time-Module_Watermarked.9de84ed793f2.jpg' width=400>\n",
    "\n",
    "[[Source](https://realpython.com/python-time-module/)]\n",
    "\n",
    "Time is not the easiest thing to work with in Python. There are surprisingly many complications (e.g. date/time datatypes, date/time display formats, timezones, etc) that make it difficult to work with. Below are some of the very basic constructs of the datetime library, along with the [pytz](https://pythonhosted.org/pytz/) library that allows you to define timezones."
   ]
  },
  {
   "cell_type": "code",
   "execution_count": null,
   "metadata": {
    "slideshow": {
     "slide_type": "slide"
    }
   },
   "outputs": [],
   "source": [
    "# what time is it now?\n",
    "now = datetime.now()\n",
    "print(now)"
   ]
  },
  {
   "cell_type": "code",
   "execution_count": null,
   "metadata": {
    "slideshow": {
     "slide_type": "fragment"
    }
   },
   "outputs": [],
   "source": [
    "# Now, but formatted nicely (no milliseconds)\n",
    "now.strftime('%Y-%m-%d %H:%M:%S')"
   ]
  },
  {
   "cell_type": "code",
   "execution_count": null,
   "metadata": {
    "slideshow": {
     "slide_type": "fragment"
    }
   },
   "outputs": [],
   "source": [
    "# Current time in UTC\n",
    "now_utc = datetime.now(timezone('UTC'))\n",
    "now_utc.strftime('%Y-%m-%d %H:%M:%S')"
   ]
  },
  {
   "cell_type": "code",
   "execution_count": null,
   "metadata": {
    "slideshow": {
     "slide_type": "slide"
    }
   },
   "outputs": [],
   "source": [
    "# what are the valid timezones?\n",
    "for tz in pytz.all_timezones:\n",
    "    print(tz)"
   ]
  },
  {
   "cell_type": "code",
   "execution_count": null,
   "metadata": {
    "slideshow": {
     "slide_type": "slide"
    }
   },
   "outputs": [],
   "source": [
    "# Current time in LA\n",
    "now = datetime.now(timezone('US/Pacific'))\n",
    "print(now.strftime('%Y-%m-%d %H:%M:%S'))"
   ]
  },
  {
   "cell_type": "markdown",
   "metadata": {
    "slideshow": {
     "slide_type": "slide"
    }
   },
   "source": [
    "## Import data from metro API\n",
    "\n",
    "- https://developer.metro.net/api/"
   ]
  },
  {
   "cell_type": "markdown",
   "metadata": {
    "slideshow": {
     "slide_type": "fragment"
    }
   },
   "source": [
    "### Get real-time bus locations via url call\n",
    "\n",
    "- https://api.metro.net/agencies/lametro/routes/2/vehicles/"
   ]
  },
  {
   "cell_type": "code",
   "execution_count": null,
   "metadata": {
    "slideshow": {
     "slide_type": "slide"
    }
   },
   "outputs": [],
   "source": [
    "# api url for metro stops\n",
    "metro_url = 'https://api.metro.net/agencies/lametro/routes/2/vehicles/'\n",
    "\n",
    "# call the api and bring the data in\n",
    "with urllib.request.urlopen(metro_url) as url:\n",
    "    data = json.loads(url.read().decode())"
   ]
  },
  {
   "cell_type": "code",
   "execution_count": null,
   "metadata": {
    "scrolled": true,
    "slideshow": {
     "slide_type": "fragment"
    }
   },
   "outputs": [],
   "source": [
    "# What does the data look like?\n",
    "print(data)"
   ]
  },
  {
   "cell_type": "markdown",
   "metadata": {
    "slideshow": {
     "slide_type": "slide"
    }
   },
   "source": [
    "### Convert JSON to dataframe and add a timestamp\n",
    "\n",
    "Oddly, the data feed from metro does not include a timestamp. Instead, it includes a field `seconds_since_report` which indicates how long ago the data was from. It *forces* us to have to compute the actual time ourselves (more on this later)."
   ]
  },
  {
   "cell_type": "code",
   "execution_count": null,
   "metadata": {
    "slideshow": {
     "slide_type": "fragment"
    }
   },
   "outputs": [],
   "source": [
    "# convert json data to dataframe\n",
    "df = pd.json_normalize(data, 'items')\n",
    "df"
   ]
  },
  {
   "cell_type": "markdown",
   "metadata": {
    "slideshow": {
     "slide_type": "slide"
    }
   },
   "source": [
    "While the data provides a field `seconds_since_report`, it does not have a specific timestamp field. Let's create that and tack it onto our dataframe."
   ]
  },
  {
   "cell_type": "code",
   "execution_count": null,
   "metadata": {
    "slideshow": {
     "slide_type": "fragment"
    }
   },
   "outputs": [],
   "source": [
    "# get the current time in our timezone\n",
    "now = datetime.now(timezone('US/Pacific')).strftime('%Y-%m-%d %H:%M:%S')\n",
    "\n",
    "# add the current timestamp\n",
    "df['time'] = now\n",
    "\n",
    "# convert the field to a datetime datatype\n",
    "df['time'] = pd.to_datetime(df['time'])\n",
    "\n",
    "df.head()"
   ]
  },
  {
   "cell_type": "markdown",
   "metadata": {
    "slideshow": {
     "slide_type": "slide"
    }
   },
   "source": [
    "### Adjust the time\n",
    "Metro returns a field `seconds_since_report` indicating the lag from the data intake from the actual capture time. We can adjust our time column to reflect this delay. This can be done by using the timestamp field we created, and subracting the time difference in seconds."
   ]
  },
  {
   "cell_type": "code",
   "execution_count": null,
   "metadata": {
    "slideshow": {
     "slide_type": "fragment"
    }
   },
   "outputs": [],
   "source": [
    "# check to see if the time math works\n",
    "df['time'] - pd.TimedeltaIndex(df['seconds_since_report'], unit='s')"
   ]
  },
  {
   "cell_type": "code",
   "execution_count": null,
   "metadata": {
    "scrolled": true,
    "slideshow": {
     "slide_type": "slide"
    }
   },
   "outputs": [],
   "source": [
    "# do the same thing but create a new field for the adjusted time\n",
    "df['time_adjusted'] = df['time'] - pd.TimedeltaIndex(df['seconds_since_report'], unit='s')\n",
    "df.sample(5)"
   ]
  },
  {
   "cell_type": "markdown",
   "metadata": {
    "slideshow": {
     "slide_type": "slide"
    }
   },
   "source": [
    "### Create an empty csv file\n",
    "While we can save the metro data to a dataframe, let us also simultaneously save the data in a .csv file. The .csv file will allow the file to live outside of this jupyter notebook.\n",
    "\n",
    "- https://docs.python.org/3/library/csv.html\n",
    "\n",
    "We first create an empty csv file with the headers from our metro data feed."
   ]
  },
  {
   "cell_type": "code",
   "execution_count": null,
   "metadata": {
    "slideshow": {
     "slide_type": "slide"
    }
   },
   "outputs": [],
   "source": [
    "# name of csv file  \n",
    "filename = \"bus.csv\"\n",
    "    \n",
    "# field names  \n",
    "fields = list(df)\n",
    "\n",
    "# writing to csv file ('w') \n",
    "with open(filename, 'w') as csvfile:  \n",
    "    # creating a csv writer object  \n",
    "    csvwriter = csv.writer(csvfile)  \n",
    "        \n",
    "    # writing the fields  \n",
    "    csvwriter.writerow(fields)  "
   ]
  },
  {
   "cell_type": "markdown",
   "metadata": {
    "slideshow": {
     "slide_type": "slide"
    }
   },
   "source": [
    "### Append data to csv\n",
    "\n",
    "Check your JupyterHub file space and confirm that the file `bus.csv` has been created. Now, we will append the dataframe to the csv file."
   ]
  },
  {
   "cell_type": "code",
   "execution_count": null,
   "metadata": {
    "scrolled": true,
    "slideshow": {
     "slide_type": "fragment"
    }
   },
   "outputs": [],
   "source": [
    "# Open your CSV file in append mode ('a')\n",
    "with open('bus.csv', 'a') as busfile: \n",
    "      \n",
    "    # create a dictionary writer\n",
    "    dictwriter = DictWriter(busfile, fieldnames=fields) \n",
    "\n",
    "    # loop through each row and add it to the csv file\n",
    "    for index, row in df.iterrows():\n",
    "        #Pass the dictionary as an argument to the writerow() \n",
    "        dictwriter.writerow(row.to_dict()) \n",
    "  \n",
    "    #Close the file object \n",
    "    busfile.close()"
   ]
  },
  {
   "cell_type": "markdown",
   "metadata": {
    "slideshow": {
     "slide_type": "slide"
    }
   },
   "source": [
    "## Making it into a function\n",
    "\n",
    "We have now reviewed the entire workflow to do the following:\n",
    "\n",
    "- call the metro API and retrieve the location of \"live\" buses on a given route\n",
    "- convert the json data to a dataframe\n",
    "- create a timestamp for the data\n",
    "- adjust the time to accommodate the time lag reported by metro\n",
    "- create a csv file of our data\n",
    "\n",
    "Next, let's create a function that does all of the above, which will allow us to automate the retrieval of bus data at given time intervals."
   ]
  },
  {
   "cell_type": "code",
   "execution_count": null,
   "metadata": {
    "slideshow": {
     "slide_type": "slide"
    }
   },
   "outputs": [],
   "source": [
    "def get_live_bus_data(df,route='2'):\n",
    "    \n",
    "    # api url for metro stops\n",
    "    metro_url = 'https://api.metro.net/agencies/lametro/routes/'+route+'/vehicles/'\n",
    "\n",
    "    try:\n",
    "\n",
    "        # call the api and bring the data in\n",
    "        with urllib.request.urlopen(metro_url) as url:\n",
    "            data = json.loads(url.read().decode())\n",
    "\n",
    "        # convert json data to temp dataframe, and add a timestamp\n",
    "        df_new = pd.json_normalize(data, 'items')\n",
    "\n",
    "        # add the timestamp\n",
    "        now = datetime.now(timezone('US/Pacific'))\n",
    "        df_new['time'] = now.strftime('%Y-%m-%d %H:%M:%S')\n",
    "\n",
    "        # convert the field to a datetime datatype\n",
    "        df_new['time'] = pd.to_datetime(df_new['time'])\n",
    "\n",
    "        # adjust the time\n",
    "        df_new['time_adjusted'] = df_new['time'] - pd.TimedeltaIndex(df_new['seconds_since_report'], unit='s')\n",
    "\n",
    "        # append the new data to original dataframe\n",
    "        df = df.append(df_new,ignore_index=True)\n",
    "\n",
    "        # append the new data to csv file (add the bus route to the file name)\n",
    "        with open('bus_'+route+'.csv', 'a') as busfile: \n",
    "\n",
    "            dictwriter = DictWriter(busfile, fieldnames=fields) \n",
    "\n",
    "            for index, row in df.iterrows():\n",
    "                dictwriter.writerow(row.to_dict()) \n",
    "\n",
    "            busfile.close()\n",
    " \n",
    "    except Exception as error:\n",
    "\n",
    "        print('metro api call failed')\n",
    "        print(error)\n",
    "    \n",
    "    return df"
   ]
  },
  {
   "cell_type": "code",
   "execution_count": null,
   "metadata": {
    "slideshow": {
     "slide_type": "slide"
    }
   },
   "outputs": [],
   "source": [
    "# call the function, and redefine the df with its results\n",
    "df = get_live_bus_data(df)"
   ]
  },
  {
   "cell_type": "code",
   "execution_count": null,
   "metadata": {
    "slideshow": {
     "slide_type": "fragment"
    }
   },
   "outputs": [],
   "source": [
    "# check the data\n",
    "df.shape"
   ]
  },
  {
   "cell_type": "code",
   "execution_count": null,
   "metadata": {
    "slideshow": {
     "slide_type": "fragment"
    }
   },
   "outputs": [],
   "source": [
    "# output the data\n",
    "df"
   ]
  },
  {
   "cell_type": "markdown",
   "metadata": {
    "slideshow": {
     "slide_type": "slide"
    }
   },
   "source": [
    "## Automate it\n",
    "\n",
    "The beauty of coding is that we can automate our code. The following code cell uses the `time` library, along with a `while` loop to run our function every 10 seconds, 10 times. Of course, these numbers can be modified as you wish."
   ]
  },
  {
   "cell_type": "code",
   "execution_count": null,
   "metadata": {
    "slideshow": {
     "slide_type": "slide"
    }
   },
   "outputs": [],
   "source": [
    "import time\n",
    "\n",
    "# set a counter\n",
    "i = 1\n",
    "\n",
    "# how many times to run\n",
    "runtimes = 10\n",
    "\n",
    "# run every x seconds\n",
    "rest = 10\n",
    "\n",
    "# start the loop\n",
    "while i < runtimes:\n",
    "    # run this every x seconds\n",
    "    time.sleep(rest)\n",
    "    \n",
    "    # timestamp to print out\n",
    "    now = datetime.now(timezone('US/Pacific'))\n",
    "    now = now.strftime('%Y-%m-%d %H:%M:%S')\n",
    "\n",
    "    print(str(i) + ': ' + now)\n",
    "    df = add_live_bus_data(df)\n",
    "    i += 1\n"
   ]
  },
  {
   "cell_type": "code",
   "execution_count": null,
   "metadata": {
    "slideshow": {
     "slide_type": "slide"
    }
   },
   "outputs": [],
   "source": [
    "# check the data\n",
    "df.shape"
   ]
  },
  {
   "cell_type": "code",
   "execution_count": null,
   "metadata": {
    "slideshow": {
     "slide_type": "fragment"
    }
   },
   "outputs": [],
   "source": [
    "df.info()"
   ]
  },
  {
   "cell_type": "code",
   "execution_count": null,
   "metadata": {
    "slideshow": {
     "slide_type": "slide"
    }
   },
   "outputs": [],
   "source": [
    "df"
   ]
  },
  {
   "cell_type": "markdown",
   "metadata": {
    "slideshow": {
     "slide_type": "slide"
    }
   },
   "source": [
    "## Map it"
   ]
  },
  {
   "cell_type": "markdown",
   "metadata": {
    "slideshow": {
     "slide_type": "-"
    }
   },
   "source": [
    "### Plotly"
   ]
  },
  {
   "cell_type": "code",
   "execution_count": null,
   "metadata": {},
   "outputs": [],
   "source": [
    "fig = px.scatter_mapbox(df,\n",
    "                        lat='latitude',\n",
    "                        lon='longitude',\n",
    "                        mapbox_style=\"carto-positron\",\n",
    "                        color= 'id',\n",
    "                        zoom=10\n",
    "                       )\n",
    "fig.show()"
   ]
  },
  {
   "cell_type": "markdown",
   "metadata": {
    "slideshow": {
     "slide_type": "slide"
    }
   },
   "source": [
    "### Kepler"
   ]
  },
  {
   "cell_type": "code",
   "execution_count": null,
   "metadata": {},
   "outputs": [],
   "source": [
    "from keplergl import KeplerGl"
   ]
  },
  {
   "cell_type": "code",
   "execution_count": null,
   "metadata": {},
   "outputs": [],
   "source": [
    "# create the kepler map (feeding it a config file so that it visualizes it based on prior settings)\n",
    "map = KeplerGl(height=600,width=800,config={\n",
    "  \"version\": \"v1\",\n",
    "  \"config\": {\n",
    "    \"visState\": {\n",
    "      \"filters\": [\n",
    "        {\n",
    "          \"dataId\": [\n",
    "            \"bus\"\n",
    "          ],\n",
    "          \"id\": \"yzpt6frz3\",\n",
    "          \"name\": [\n",
    "            \"time\"\n",
    "          ],\n",
    "          \"type\": \"timeRange\",\n",
    "          \"value\": [\n",
    "            1612886276000,\n",
    "            1612886287999.9995\n",
    "          ],\n",
    "          \"enlarged\": True,\n",
    "          \"plotType\": \"histogram\",\n",
    "          \"yAxis\": None\n",
    "        }\n",
    "      ],\n",
    "      \"layers\": [\n",
    "        {\n",
    "          \"id\": \"x9vz60j\",\n",
    "          \"type\": \"point\",\n",
    "          \"config\": {\n",
    "            \"dataId\": \"bus\",\n",
    "            \"label\": \"Point\",\n",
    "            \"color\": [\n",
    "              18,\n",
    "              147,\n",
    "              154\n",
    "            ],\n",
    "            \"columns\": {\n",
    "              \"lat\": \"latitude\",\n",
    "              \"lng\": \"longitude\",\n",
    "              \"altitude\": None\n",
    "            },\n",
    "            \"isVisible\": True,\n",
    "            \"visConfig\": {\n",
    "              \"radius\": 20.1,\n",
    "              \"fixedRadius\": False,\n",
    "              \"opacity\": 0.8,\n",
    "              \"outline\": False,\n",
    "              \"thickness\": 2,\n",
    "              \"strokeColor\": None,\n",
    "              \"colorRange\": {\n",
    "                \"name\": \"ColorBrewer Set1-6\",\n",
    "                \"type\": \"qualitative\",\n",
    "                \"category\": \"ColorBrewer\",\n",
    "                \"colors\": [\n",
    "                  \"#e41a1c\",\n",
    "                  \"#377eb8\",\n",
    "                  \"#4daf4a\",\n",
    "                  \"#984ea3\",\n",
    "                  \"#ff7f00\",\n",
    "                  \"#ffff33\"\n",
    "                ]\n",
    "              },\n",
    "              \"strokeColorRange\": {\n",
    "                \"name\": \"Global Warming\",\n",
    "                \"type\": \"sequential\",\n",
    "                \"category\": \"Uber\",\n",
    "                \"colors\": [\n",
    "                  \"#5A1846\",\n",
    "                  \"#900C3F\",\n",
    "                  \"#C70039\",\n",
    "                  \"#E3611C\",\n",
    "                  \"#F1920E\",\n",
    "                  \"#FFC300\"\n",
    "                ]\n",
    "              },\n",
    "              \"radiusRange\": [\n",
    "                0,\n",
    "                50\n",
    "              ],\n",
    "              \"filled\": True\n",
    "            },\n",
    "            \"hidden\": False,\n",
    "            \"textLabel\": [\n",
    "              {\n",
    "                \"field\": None,\n",
    "                \"color\": [\n",
    "                  255,\n",
    "                  255,\n",
    "                  255\n",
    "                ],\n",
    "                \"size\": 18,\n",
    "                \"offset\": [\n",
    "                  0,\n",
    "                  0\n",
    "                ],\n",
    "                \"anchor\": \"start\",\n",
    "                \"alignment\": \"center\"\n",
    "              }\n",
    "            ]\n",
    "          },\n",
    "          \"visualChannels\": {\n",
    "            \"colorField\": {\n",
    "              \"name\": \"id\",\n",
    "              \"type\": \"integer\"\n",
    "            },\n",
    "            \"colorScale\": \"quantile\",\n",
    "            \"strokeColorField\": None,\n",
    "            \"strokeColorScale\": \"quantile\",\n",
    "            \"sizeField\": None,\n",
    "            \"sizeScale\": \"linear\"\n",
    "          }\n",
    "        }\n",
    "      ],\n",
    "      \"interactionConfig\": {\n",
    "        \"tooltip\": {\n",
    "          \"fieldsToShow\": {\n",
    "            \"bus\": [\n",
    "              {\n",
    "                \"name\": \"route_id\",\n",
    "                \"format\": None\n",
    "              },\n",
    "              {\n",
    "                \"name\": \"heading\",\n",
    "                \"format\": None\n",
    "              },\n",
    "              {\n",
    "                \"name\": \"id\",\n",
    "                \"format\": None\n",
    "              },\n",
    "              {\n",
    "                \"name\": \"predictable\",\n",
    "                \"format\": None\n",
    "              },\n",
    "              {\n",
    "                \"name\": \"seconds_since_report\",\n",
    "                \"format\": None\n",
    "              }\n",
    "            ]\n",
    "          },\n",
    "          \"compareMode\": False,\n",
    "          \"compareType\": \"absolute\",\n",
    "          \"enabled\": True\n",
    "        },\n",
    "        \"brush\": {\n",
    "          \"size\": 0.5,\n",
    "          \"enabled\": False\n",
    "        },\n",
    "        \"geocoder\": {\n",
    "          \"enabled\": False\n",
    "        },\n",
    "        \"coordinate\": {\n",
    "          \"enabled\": False\n",
    "        }\n",
    "      },\n",
    "      \"layerBlending\": \"normal\",\n",
    "      \"splitMaps\": [],\n",
    "      \"animationConfig\": {\n",
    "        \"currentTime\": None,\n",
    "        \"speed\": 1\n",
    "      }\n",
    "    },\n",
    "    \"mapState\": {\n",
    "      \"bearing\": 17.204081632653057,\n",
    "      \"dragRotate\": True,\n",
    "      \"latitude\": 34.03641872791707,\n",
    "      \"longitude\": -118.3557812310633,\n",
    "      \"pitch\": 51.96682037600022,\n",
    "      \"zoom\": 11.451941083083048,\n",
    "      \"isSplit\": False\n",
    "    },\n",
    "    \"mapStyle\": {\n",
    "      \"styleType\": \"dark\",\n",
    "      \"topLayerGroups\": {},\n",
    "      \"visibleLayerGroups\": {\n",
    "        \"label\": True,\n",
    "        \"road\": True,\n",
    "        \"border\": False,\n",
    "        \"building\": True,\n",
    "        \"water\": True,\n",
    "        \"land\": True,\n",
    "        \"3d building\": False\n",
    "      },\n",
    "      \"threeDBuildingColor\": [\n",
    "        9.665468314072013,\n",
    "        17.18305478057247,\n",
    "        31.1442867897876\n",
    "      ],\n",
    "      \"mapStyles\": {}\n",
    "    }\n",
    "  }\n",
    "})"
   ]
  },
  {
   "cell_type": "code",
   "execution_count": null,
   "metadata": {
    "slideshow": {
     "slide_type": "slide"
    }
   },
   "outputs": [],
   "source": [
    "# show the map\n",
    "map.add_data(data=df,name='bus')\n",
    "map"
   ]
  }
 ],
 "metadata": {
  "celltoolbar": "Slideshow",
  "kernelspec": {
   "display_name": "Python 3 (ipykernel)",
   "language": "python",
   "name": "python3"
  },
  "language_info": {
   "codemirror_mode": {
    "name": "ipython",
    "version": 3
   },
   "file_extension": ".py",
   "mimetype": "text/x-python",
   "name": "python",
   "nbconvert_exporter": "python",
   "pygments_lexer": "ipython3",
   "version": "3.9.6"
  },
  "toc": {
   "base_numbering": 1,
   "nav_menu": {},
   "number_sections": true,
   "sideBar": true,
   "skip_h1_title": false,
   "title_cell": "Table of Contents",
   "title_sidebar": "Contents",
   "toc_cell": true,
   "toc_position": {
    "height": "calc(100% - 180px)",
    "left": "10px",
    "top": "150px",
    "width": "165px"
   },
   "toc_section_display": true,
   "toc_window_display": false
  }
 },
 "nbformat": 4,
 "nbformat_minor": 4
}
