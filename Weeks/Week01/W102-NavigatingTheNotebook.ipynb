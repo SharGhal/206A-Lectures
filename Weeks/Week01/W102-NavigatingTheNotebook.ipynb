{
 "cells": [
  {
   "cell_type": "markdown",
   "metadata": {},
   "source": [
    "# Navigating Jupyter Lab"
   ]
  },
  {
   "cell_type": "markdown",
   "metadata": {},
   "source": [
    "### Menu bar\n",
    "\n",
    "<img src=\"images/menu.png\" width=\"600\">\n",
    "\n",
    "* contains actions for the notebook, its cells, and the kernel"
   ]
  },
  {
   "cell_type": "markdown",
   "metadata": {},
   "source": [
    "### Tool bar\n",
    "\n",
    "<img src=\"images/tool.png\" width=600>\n",
    "\n",
    "* buttons for common actions\n",
    "* hover over a button for info"
   ]
  },
  {
   "cell_type": "markdown",
   "metadata": {},
   "source": [
    "### Execution Modes\n",
    "* **Edit mode**:  changing the content within a cell\n",
    "  \n",
    "  \n",
    "* **Command mode**:  performing actions on the notebook as a whole\n",
    "\n"
   ]
  },
  {
   "cell_type": "code",
   "execution_count": null,
   "metadata": {},
   "outputs": [],
   "source": [
    "# Make this cell go back and forth between edit and command mode"
   ]
  },
  {
   "cell_type": "markdown",
   "metadata": {},
   "source": [
    "### Types of cells\n",
    "\n",
    "* **Code** and **Markdown**"
   ]
  },
  {
   "cell_type": "code",
   "execution_count": null,
   "metadata": {},
   "outputs": [],
   "source": [
    "# This is a code cell"
   ]
  },
  {
   "cell_type": "markdown",
   "metadata": {},
   "source": [
    "This is a markdown cell"
   ]
  },
  {
   "cell_type": "markdown",
   "metadata": {},
   "source": [
    "### We will come back to markdown, but first:  Running Code\n",
    "\n",
    "First and foremost, the Jupyter Notebook is an interactive environment for writing and running code. The notebook is capable of running code in a wide range of languages. \n",
    "\n",
    "Each notebook is associated with a single kernel.  This notebook is associated with the IPython kernel and therefore runs Python code."
   ]
  },
  {
   "cell_type": "markdown",
   "metadata": {},
   "source": [
    "### Code cells allow you to enter and run code\n",
    "\n",
    "Run a code cell using `Shift-Enter` or pressing the ![run](../images/run.png) button in the toolbar above:"
   ]
  },
  {
   "cell_type": "code",
   "execution_count": null,
   "metadata": {},
   "outputs": [],
   "source": [
    "a = 10"
   ]
  },
  {
   "cell_type": "code",
   "execution_count": null,
   "metadata": {},
   "outputs": [],
   "source": [
    "print(a)"
   ]
  },
  {
   "cell_type": "markdown",
   "metadata": {},
   "source": [
    "There are two other keyboard shortcuts for running code:\n",
    "\n",
    "* `Alt-Enter` runs the current cell and inserts a new one below.\n",
    "* `Ctrl-Enter` run the current cell and enters command mode."
   ]
  },
  {
   "cell_type": "markdown",
   "metadata": {},
   "source": [
    "### Markdown cells allow you to enter marked-up text for descriptions, equations, etc."
   ]
  },
  {
   "cell_type": "markdown",
   "metadata": {},
   "source": [
    "(double-click on this cell to see the markdown text)\n",
    "\n",
    "*Italic* and **bold** text\n",
    "\n",
    "* Bullet lists\n",
    "* or numbered lists\n",
    "  1. like 1\n",
    "  1. or 2\n",
    "  1. or 3\n",
    "\n",
    "Inline equations like $e^{i\\pi} = -1$ or displayed equations like $$e^x = \\sum_{i=0}^{\\infty} \\frac{x^i}{i!}$$\n",
    "\n",
    "Or links, like to a [markdown cheatsheet](https://github.com/adam-p/markdown-here/wiki/Markdown-Cheatsheet)"
   ]
  },
  {
   "cell_type": "markdown",
   "metadata": {},
   "source": [
    "### Restarting the kernels\n",
    "\n",
    "<img src=\"images/kernelmenu.png\" width=400>\n",
    "\n",
    "The kernel maintains the state of a notebook's computations. You can reset this state by restarting the kernel. This is done by clicking on the <button class='btn btn-default btn-xs'><i class='fa fa-repeat icon-repeat'></i></button> in the toolbar above."
   ]
  },
  {
   "cell_type": "markdown",
   "metadata": {},
   "source": [
    "### Run menu\n",
    "\n",
    "<img src=\"images/run.png\" width=400>\n"
   ]
  },
  {
   "cell_type": "markdown",
   "metadata": {},
   "source": [
    "### Large outputs\n",
    "\n",
    "To better handle large outputs, the output area can be collapsed. Run the following cell and then click on the blue bar to the left of the output:"
   ]
  },
  {
   "cell_type": "code",
   "execution_count": 1,
   "metadata": {
    "tags": []
   },
   "outputs": [],
   "source": [
    "for i in range(100):\n",
    "    print(i)"
   ]
  },
  {
   "cell_type": "markdown",
   "metadata": {},
   "source": [
    "Try it with the following output:"
   ]
  },
  {
   "cell_type": "code",
   "execution_count": 2,
   "metadata": {
    "tags": []
   },
   "outputs": [],
   "source": [
    "for i in range(500):\n",
    "    print(2**i - 1)"
   ]
  },
  {
   "cell_type": "markdown",
   "metadata": {
    "jupyter": {
     "source_hidden": true
    },
    "tags": []
   },
   "source": [
    "### Useful keyboard shortcuts\n",
    "\n",
    "key | action\n",
    "--- | ---\n",
    "shift-enter | execute a cell and go to the next cell\n",
    "alt-enter | execute a cell and stay on the same cell\n",
    "A | add a cell above\n",
    "B | add a cell below\n",
    "DD | delete a cell\n",
    "ctrl+shift+dash | split a cell at the cursor\n",
    "x | cut a cell\n",
    "c | copy a cell\n",
    "v | paste a cell\n",
    "shift+l | show line numbers in a code cell"
   ]
  },
  {
   "cell_type": "markdown",
   "metadata": {
    "tags": []
   },
   "source": [
    "### Table of contents\n",
    "\n",
    "<img src=\"images/toc.png\" width=600>\n",
    "\n",
    "Make use of the table of contents. This feature automatically detects markdown headers and creates a linked table of contents."
   ]
  },
  {
   "cell_type": "markdown",
   "metadata": {
    "tags": []
   },
   "source": [
    "## Useful commands\n",
    "\n",
    "* You can save yourself some time by remembering some common commands:\n",
    "    * **Basic**\n",
    "        * `Enter` -- go into Edit mode\n",
    "        * `Shift-Enter` -- execute the active cell\n",
    "        * `up-arrow / k` and `down-arrow / j` move the active cell selection\n",
    "    * **Saving**\n",
    "        * `s` -- saves the notebook\n",
    "    * **Cell Types**\n",
    "        * `y` for code, `m` for markdown\n",
    "    * **Cell Creation**\n",
    "        * `a` for creating cell above the active one, `b` for below\n",
    "    * **Cell Editing**\n",
    "        * `x` - cut, `c` - copy, `v` - paste, `d,d` -- \"d\" pressed twice will delete a cell\n",
    "        * `z` - undo deletion\n",
    "    * **HELP!!**\n",
    "        * `h`\n",
    "        * or go to Help Menu -> Keyboard Shortcuts"
   ]
  },
  {
   "cell_type": "markdown",
   "metadata": {},
   "source": [
    "# Reference:  \n",
    "* Take the time to learn more about the Jupyter Lab interface [here](https://jupyterlab.readthedocs.io/en/stable/user/interface.htmlhttps://jupyterlab.readthedocs.io/en/stable/user/interface.html)\n"
   ]
  }
 ],
 "metadata": {
  "anaconda-cloud": {},
  "kernelspec": {
   "display_name": "Python 3 (ipykernel)",
   "language": "python",
   "name": "python3"
  },
  "language_info": {
   "codemirror_mode": {
    "name": "ipython",
    "version": 3
   },
   "file_extension": ".py",
   "mimetype": "text/x-python",
   "name": "python",
   "nbconvert_exporter": "python",
   "pygments_lexer": "ipython3",
   "version": "3.9.6"
  },
  "toc": {
   "base_numbering": 1,
   "nav_menu": {},
   "number_sections": true,
   "sideBar": true,
   "skip_h1_title": false,
   "title_cell": "Table of Contents",
   "title_sidebar": "Contents",
   "toc_cell": false,
   "toc_position": {},
   "toc_section_display": true,
   "toc_window_display": true
  }
 },
 "nbformat": 4,
 "nbformat_minor": 4
}
