{
 "cells": [
  {
   "cell_type": "markdown",
   "id": "6fe2d959-4b78-4334-a81e-d0f956226973",
   "metadata": {},
   "source": [
    "# Randomizer\n",
    "\n",
    "Who goes first? Let's roll the python dice..."
   ]
  },
  {
   "cell_type": "code",
   "execution_count": null,
   "id": "74b15397-787f-4269-85c8-fa3f905233e4",
   "metadata": {},
   "outputs": [],
   "source": [
    "import pandas as pd"
   ]
  },
  {
   "cell_type": "code",
   "execution_count": null,
   "id": "b7140473-71e2-4bc9-942d-f8c3d7b21fff",
   "metadata": {},
   "outputs": [],
   "source": [
    "# Create a data list of students and topics\n",
    "students = [['Danielle Parnes', 'Ellie Gertler', 'Traffic collisions'],\n",
    "['Nick Moore', 'Mary Alice Williams', 'Oakland potholes'],\n",
    "['Aurelia Mora Camacho', 'Paola Tirado', 'Mobile homies'],\n",
    "['Jacob Basinger', 'Lucia Rossignol', 'See level rise'],\n",
    "['Jinglan Lin', 'Nour Aboufadel', 'Healthy foods in college towns'],\n",
    "['Jessica Martin', 'Adriana Valencia Wences', 'Affordable housing/parks'],\n",
    "['Sharon Ghalchi', 'Trong Kim ', 'ADU zoning'],\n",
    "['Michael Criste', '', 'Digital divide/broadband access'],\n",
    "['Elise Chessman', '', 'Mining towns in Colorado'],\n",
    "['Lillian Liang', 'Jeremy Epstein', 'Oil pipelines'],\n",
    "['Samantha Guerrero ', 'Jessica Melendez', 'Policing'],\n",
    "['Stephanie Andrade', 'Kelly Banh', 'Floods in San Diego'],\n",
    "['Celia Sanchez Zelaya', '', 'Extreme heat'],\n",
    "['Luis Cruz', 'Nelson Guevara', 'Sports stadiums in Inglewood'],\n",
    "['Demetria Murphy', '', 'Green book'],\n",
    "['Nolan Gray', '', 'Vehicle dwellings']]"
   ]
  },
  {
   "cell_type": "code",
   "execution_count": null,
   "id": "b25c64e1-4aa9-483e-be04-0e5513ef29eb",
   "metadata": {},
   "outputs": [],
   "source": [
    "# add the students to a dataframe\n",
    "df = pd.DataFrame(students, columns=['First','Second','Topic'])\n",
    "  \n",
    "# print dataframe.\n",
    "df"
   ]
  },
  {
   "cell_type": "code",
   "execution_count": null,
   "id": "dfc63d9c-d422-427b-a3f1-f4272718de45",
   "metadata": {},
   "outputs": [],
   "source": [
    "# this randomizes the data using .sample\n",
    "# frac stands for fraction of the data to return, \n",
    "# so frac=1 means to return every row\n",
    "df = df.sample(frac=1).reset_index(drop=True)"
   ]
  },
  {
   "cell_type": "code",
   "execution_count": null,
   "id": "d268e2db-5bef-46dc-aa66-672d336c9ff4",
   "metadata": {},
   "outputs": [],
   "source": [
    "df"
   ]
  },
  {
   "cell_type": "code",
   "execution_count": null,
   "id": "fc9f2fce-45fc-4fd9-888b-122c43b00c58",
   "metadata": {},
   "outputs": [],
   "source": []
  }
 ],
 "metadata": {
  "kernelspec": {
   "display_name": "Python 3 (ipykernel)",
   "language": "python",
   "name": "python3"
  },
  "language_info": {
   "codemirror_mode": {
    "name": "ipython",
    "version": 3
   },
   "file_extension": ".py",
   "mimetype": "text/x-python",
   "name": "python",
   "nbconvert_exporter": "python",
   "pygments_lexer": "ipython3",
   "version": "3.9.6"
  }
 },
 "nbformat": 4,
 "nbformat_minor": 5
}
