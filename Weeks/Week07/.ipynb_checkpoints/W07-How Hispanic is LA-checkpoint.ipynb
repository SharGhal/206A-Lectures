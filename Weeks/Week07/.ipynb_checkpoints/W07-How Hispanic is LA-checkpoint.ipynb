{
 "cells": [
  {
   "cell_type": "markdown",
   "metadata": {},
   "source": [
    "# How Hispanic is Los Angeles?"
   ]
  },
  {
   "cell_type": "code",
   "execution_count": null,
   "metadata": {},
   "outputs": [],
   "source": [
    "import geopandas as gpd\n",
    "import matplotlib.pyplot as plt"
   ]
  },
  {
   "cell_type": "code",
   "execution_count": null,
   "metadata": {},
   "outputs": [],
   "source": [
    "# get data\n",
    "neighborhoods = gpd.read_file('https://opendata.arcgis.com/datasets/d6c55385a0e749519f238b77135eafac_0.geojson')\n",
    "census = gpd.read_file('census_race.geojson')"
   ]
  },
  {
   "cell_type": "code",
   "execution_count": null,
   "metadata": {},
   "outputs": [],
   "source": [
    "neighborhoods.plot()"
   ]
  },
  {
   "cell_type": "code",
   "execution_count": null,
   "metadata": {},
   "outputs": [],
   "source": [
    "neighborhoods.head()"
   ]
  },
  {
   "cell_type": "code",
   "execution_count": null,
   "metadata": {},
   "outputs": [],
   "source": [
    "census.plot()"
   ]
  },
  {
   "cell_type": "code",
   "execution_count": null,
   "metadata": {},
   "outputs": [],
   "source": [
    "census.head()"
   ]
  },
  {
   "cell_type": "code",
   "execution_count": null,
   "metadata": {},
   "outputs": [],
   "source": [
    "# put them on top of each other\n",
    "fig, ax = plt.subplots(figsize=(10,10))\n",
    "\n",
    "census.plot(ax=ax)\n",
    "neighborhoods.plot(ax=ax,color='red')"
   ]
  },
  {
   "cell_type": "code",
   "execution_count": null,
   "metadata": {},
   "outputs": [],
   "source": [
    "# put them on top of each other\n",
    "fig, ax = plt.subplots(figsize=(15,15))\n",
    "\n",
    "census.plot(ax=ax,column='Hispanic')\n",
    "neighborhoods.plot(ax=ax,edgecolor='red',color='none')"
   ]
  },
  {
   "cell_type": "code",
   "execution_count": null,
   "metadata": {},
   "outputs": [],
   "source": [
    "# put same layer on top of each other\n",
    "fig, ax = plt.subplots(figsize=(15,15))\n",
    "\n",
    "census.plot(ax=ax,column='Percent Hispanic')\n",
    "census[census['Percent Hispanic']>90].plot(ax=ax,edgecolor='red',color='none')"
   ]
  },
  {
   "cell_type": "code",
   "execution_count": null,
   "metadata": {},
   "outputs": [],
   "source": [
    "# get its extent\n",
    "minx, miny, maxx, maxy = census[census['Percent Hispanic']>90].total_bounds"
   ]
  },
  {
   "cell_type": "code",
   "execution_count": null,
   "metadata": {},
   "outputs": [],
   "source": [
    "# put same layer on top of each other\n",
    "fig, ax = plt.subplots(figsize=(15,15))\n",
    "\n",
    "census.plot(ax=ax,column='Percent Non Hispanic Asian')\n",
    "census[census['Percent Hispanic']>90].plot(ax=ax,edgecolor='red',color='none')\n",
    "\n",
    "\n",
    "# set the extent to Boyle Heights, add some padding\n",
    "ax.set_xlim(minx-0.01, maxx+0.01)\n",
    "ax.set_ylim(miny-0.01, maxy+0.01)"
   ]
  },
  {
   "cell_type": "code",
   "execution_count": null,
   "metadata": {},
   "outputs": [],
   "source": [
    "# zoom into a neighborhood\n",
    "bh = neighborhoods[neighborhoods.name=='Boyle Heights']\n",
    "bh.plot()"
   ]
  },
  {
   "cell_type": "code",
   "execution_count": null,
   "metadata": {},
   "outputs": [],
   "source": [
    "# get its extent\n",
    "minx, miny, maxx, maxy = bh.total_bounds"
   ]
  },
  {
   "cell_type": "code",
   "execution_count": null,
   "metadata": {},
   "outputs": [],
   "source": [
    "# put them on top of each other\n",
    "fig, ax = plt.subplots(figsize=(10,10))\n",
    "\n",
    "# first layer\n",
    "census.plot(ax=ax)\n",
    "\n",
    "# second layer\n",
    "bh.plot(ax=ax,edgecolor='red',color='none',linewidth=2)\n",
    "\n",
    "# set the extent to Boyle Heights, add some padding\n",
    "ax.set_xlim(minx-0.01, maxx+0.01)\n",
    "ax.set_ylim(miny-0.01, maxy+0.01)"
   ]
  },
  {
   "cell_type": "code",
   "execution_count": null,
   "metadata": {},
   "outputs": [],
   "source": [
    "# spatial join to get census tracts\n",
    "bh_tracts = gpd.sjoin(census,bh)"
   ]
  },
  {
   "cell_type": "code",
   "execution_count": null,
   "metadata": {},
   "outputs": [],
   "source": [
    "bh_tracts.shape"
   ]
  },
  {
   "cell_type": "code",
   "execution_count": null,
   "metadata": {},
   "outputs": [],
   "source": [
    "bh_tracts.head()"
   ]
  },
  {
   "cell_type": "code",
   "execution_count": null,
   "metadata": {},
   "outputs": [],
   "source": [
    "bh_tracts.plot(column='Percent Hispanic', legend=True,vmin=0,vmax=100)"
   ]
  },
  {
   "cell_type": "code",
   "execution_count": null,
   "metadata": {},
   "outputs": [],
   "source": [
    "# some stats\n",
    "bh_tracts['Total'].sum()"
   ]
  },
  {
   "cell_type": "code",
   "execution_count": null,
   "metadata": {},
   "outputs": [],
   "source": [
    "round(bh_tracts['Hispanic'].sum()/bh_tracts['Total'].sum()*100)"
   ]
  },
  {
   "cell_type": "code",
   "execution_count": null,
   "metadata": {
    "scrolled": false
   },
   "outputs": [],
   "source": [
    "# how about a loop?\n",
    "fig,ax = plt.subplots(len(neighborhoods),1,figsize=(5,2*len(neighborhoods)))\n",
    "for index, row in neighborhoods.iterrows():\n",
    "    # this neighborhood\n",
    "    this_neighborhood = neighborhoods[neighborhoods['name']==row['name']]\n",
    "    \n",
    "    # subset\n",
    "    tracts = gpd.sjoin(census,this_neighborhood)\n",
    "    tracts.plot(ax=ax[index],column='Percent Non Hispanic White', vmin=0,vmax=100)\n",
    "    ax[index].axis('off')\n",
    "    percent_hispanic = round(tracts['Non Hispanic White'].sum()/tracts['Total'].sum()*100)\n",
    "    ax[index].set_title(row['name'] + ' (' + str(percent_hispanic)+'% Non Hispanic White)')"
   ]
  },
  {
   "cell_type": "code",
   "execution_count": null,
   "metadata": {},
   "outputs": [],
   "source": []
  }
 ],
 "metadata": {
  "kernelspec": {
   "display_name": "Python 3",
   "language": "python",
   "name": "python3"
  },
  "language_info": {
   "codemirror_mode": {
    "name": "ipython",
    "version": 3
   },
   "file_extension": ".py",
   "mimetype": "text/x-python",
   "name": "python",
   "nbconvert_exporter": "python",
   "pygments_lexer": "ipython3",
   "version": "3.8.5"
  },
  "toc": {
   "base_numbering": 1,
   "nav_menu": {},
   "number_sections": true,
   "sideBar": true,
   "skip_h1_title": false,
   "title_cell": "Table of Contents",
   "title_sidebar": "Contents",
   "toc_cell": false,
   "toc_position": {},
   "toc_section_display": true,
   "toc_window_display": false
  }
 },
 "nbformat": 4,
 "nbformat_minor": 4
}
